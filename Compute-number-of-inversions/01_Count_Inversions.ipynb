{
 "cells": [
  {
   "cell_type": "markdown",
   "metadata": {
    "collapsed": true
   },
   "source": [
    "# Counting Inversions\n",
    "\n",
    "Finding the number of inversion in the list of unsorted/abitrary order array.\n",
    "\n",
    "Implementing Merge Sort to sort and count with Divide and Conquer. \n",
    "Run time is O(nlog(n))"
   ]
  },
  {
   "cell_type": "code",
   "execution_count": 5,
   "metadata": {},
   "outputs": [],
   "source": [
    "import os\n",
    "\n",
    "class InverseCount(object):\n",
    "    def __init__(self, *args):\n",
    "        if args:\n",
    "            self.filename = args[0]\n",
    "            self.array = []\n",
    "            if os.path.isfile(self.filename):\n",
    "                with open(self.filename) as fh:\n",
    "                    for line in fh:\n",
    "                        self.array.append(int(line))\n",
    "            else:\n",
    "                print ('File path is invalid.')\n",
    "        else:\n",
    "            print ('Not loading input from file. Using manual input.')\n",
    "    \n",
    "    def countSplitInv(self, array, n_len):\n",
    "        mid = n_len//2\n",
    "        L = array[:mid]\n",
    "        R = array[mid:]\n",
    "        i= 0; j=0\n",
    "        sorted_array =[]\n",
    "        inv_count = 0\n",
    "\n",
    "        while i < mid and j < (n_len - mid): # to keep index not out of range\n",
    "            if L[i] <= R[j]:\n",
    "                sorted_array.append(L[i])\n",
    "                i += 1\n",
    "            else:\n",
    "                sorted_array.append(R[j])\n",
    "                j += 1\n",
    "                inv_count += mid - i # to add the number of inversions.\n",
    "\n",
    "        sorted_array = sorted_array + L[i:] + R[j:]    \n",
    "\n",
    "        return sorted_array, inv_count\n",
    "        \n",
    "            \n",
    "    def count_inverse(self, array):\n",
    "        n = len(array)\n",
    "        if n <= 1:\n",
    "            return array, 0\n",
    "        mid = n//2\n",
    "\n",
    "        X_array, X = self.count_inverse(array[:mid])\n",
    "        Y_array, Y = self.count_inverse(array[mid:])\n",
    "        Z_array, Z = self.countSplitInv(X_array+Y_array, n)\n",
    "\n",
    "        return Z_array, X+Y+Z\n",
    "        \n",
    "         \n",
    "        "
   ]
  },
  {
   "cell_type": "code",
   "execution_count": 7,
   "metadata": {},
   "outputs": [
    {
     "name": "stdout",
     "output_type": "stream",
     "text": [
      "Not loading input from file. Using manual input.\n",
      "\n",
      "Test Case 1 - Total Inversion Count: 3\n",
      "B sorted array: [1, 2, 3, 4, 5, 6]\n"
     ]
    }
   ],
   "source": [
    "# Test Case 1:\n",
    "arr = [1,3,5,2,4,6]\n",
    "b = InverseCount()\n",
    "b_arr, b_count = b.count_inverse(arr)\n",
    "print()\n",
    "print (\"Test Case 1 - Total Inversion Count: {}\".format(b_count))\n",
    "print (\"B sorted array: {}\".format(b_arr))"
   ]
  },
  {
   "cell_type": "code",
   "execution_count": 8,
   "metadata": {},
   "outputs": [
    {
     "name": "stdout",
     "output_type": "stream",
     "text": [
      "Not loading input from file. Using manual input.\n",
      "\n",
      "Test Case 2 - Total Inversion Count: 8\n",
      "C sorted array: [1, 2, 3, 4, 5, 6, 7, 21, 45, 78]\n"
     ]
    }
   ],
   "source": [
    "# Test Case 2\n",
    "arr_2 = [1,3,5,2,4,6,45,78,21,7]\n",
    "c = InverseCount()\n",
    "c_arr, c_count = c.count_inverse(arr_2)\n",
    "print()\n",
    "print (\"Test Case 2 - Total Inversion Count: {}\".format(c_count))\n",
    "print (\"C sorted array: {}\".format(c_arr))"
   ]
  },
  {
   "cell_type": "code",
   "execution_count": null,
   "metadata": {},
   "outputs": [],
   "source": [
    "# Load testing file\n",
    "filename = './IntegerArray_CountInversions.txt'\n",
    "a = InverseCount(filename)\n",
    "array = a.array\n",
    "new_arr, count = a.count_inverse(a.array)\n",
    "print (\"From File of {0} Arbitary Inputs - Total Inversion Count: {1}\".format(len(new_arr), count))"
   ]
  },
  {
   "cell_type": "markdown",
   "metadata": {},
   "source": [
    "# Separate Functions w/o Class"
   ]
  },
  {
   "cell_type": "code",
   "execution_count": null,
   "metadata": {},
   "outputs": [],
   "source": [
    "def countSplitInv(array, n_len):\n",
    "    mid = n_len//2\n",
    "    L = array[:mid]\n",
    "    print (\"left split: \", L)\n",
    "    R = array[mid:]\n",
    "    print (\"right split: \",R)\n",
    "    i= 0; j=0\n",
    "    sorted_array =[]\n",
    "    inv_count = 0\n",
    "    \n",
    "    while i < mid and j < (n_len - mid):\n",
    "        if L[i] <= R[j]:\n",
    "            sorted_array.append(L[i])\n",
    "            i += 1\n",
    "        else:\n",
    "            sorted_array.append(R[j])\n",
    "            j += 1\n",
    "            inv_count += mid - i\n",
    "            \n",
    "    sorted_array = sorted_array + L[i:] + R[j:]    \n",
    "                \n",
    "    return sorted_array, inv_count\n",
    "        \n",
    "            \n",
    "def count_inverse(array):\n",
    "    n = len(array)\n",
    "    if n <= 1:\n",
    "        return array, 0\n",
    "    mid = n//2\n",
    "    \n",
    "    X_array, X = count_inverse(array[:mid])\n",
    "    print (\"L: \",X_array)\n",
    "    Y_array, Y = count_inverse(array[mid:])\n",
    "    print (\"R: \",Y_array)\n",
    "    Z_array, Z = countSplitInv(X_array+Y_array, n)\n",
    "    print (\"Total: \", Z_array)\n",
    "        \n",
    "    return Z_array, X+Y+Z"
   ]
  },
  {
   "cell_type": "code",
   "execution_count": null,
   "metadata": {},
   "outputs": [],
   "source": [
    "# Test Case 1:\n",
    "\n",
    "arr = [1,3,5,2,4,6,45,78,21,7]\n",
    "\n",
    "array, total = count_inverse(arr)\n",
    "\n",
    "print (\"Test Case 1 - Total Inversion Count: {}\".format(total))\n",
    "# print (array)\n"
   ]
  },
  {
   "cell_type": "code",
   "execution_count": null,
   "metadata": {},
   "outputs": [],
   "source": []
  }
 ],
 "metadata": {
  "kernelspec": {
   "display_name": "Python 3",
   "language": "python",
   "name": "python3"
  },
  "language_info": {
   "codemirror_mode": {
    "name": "ipython",
    "version": 3
   },
   "file_extension": ".py",
   "mimetype": "text/x-python",
   "name": "python",
   "nbconvert_exporter": "python",
   "pygments_lexer": "ipython3",
   "version": "3.5.4"
  }
 },
 "nbformat": 4,
 "nbformat_minor": 2
}
